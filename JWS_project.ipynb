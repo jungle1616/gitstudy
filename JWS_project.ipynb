{
  "nbformat": 4,
  "nbformat_minor": 0,
  "metadata": {
    "colab": {
      "name": "JWS_project.ipynb",
      "private_outputs": true,
      "provenance": [],
      "collapsed_sections": [],
      "mount_file_id": "1Y6heRLuYH-ZRUY9FS1JVygXizJxQVm3M",
      "authorship_tag": "ABX9TyM3B5wFF44SvkUX4q9U8WJP",
      "include_colab_link": true
    },
    "kernelspec": {
      "name": "python3",
      "display_name": "Python 3"
    },
    "language_info": {
      "name": "python"
    },
    "accelerator": "GPU"
  },
  "cells": [
    {
      "cell_type": "markdown",
      "metadata": {
        "id": "view-in-github",
        "colab_type": "text"
      },
      "source": [
        "<a href=\"https://colab.research.google.com/github/jungle1616/gitstudy/blob/master/JWS_project.ipynb\" target=\"_parent\"><img src=\"https://colab.research.google.com/assets/colab-badge.svg\" alt=\"Open In Colab\"/></a>"
      ]
    },
    {
      "cell_type": "code",
      "metadata": {
        "id": "DtHnecDHe1XQ"
      },
      "source": [
        "import gc\n",
        "import os\n",
        "import warnings\n",
        "import numpy as np \n",
        "import pandas as pd\n",
        "import seaborn as sns\n",
        "import matplotlib.pyplot as plt\n",
        "from tqdm import tqdm\n",
        "import PIL\n",
        "from PIL import ImageDraw\n",
        "from keras import backend as K\n",
        "from sklearn.model_selection import train_test_split\n",
        "from keras.applications.resnet50 import ResNet50, preprocess_input\n",
        "from keras.preprocessing.image import ImageDataGenerator\n",
        "from keras.models import Sequential, Model\n",
        "from keras.layers import Dense, Dropout, Flatten, Activation, Conv2D, GlobalAveragePooling2D\n",
        "\n",
        "warnings.filterwarnings(action='ignore')\n",
        "\n",
        "K.image_data_format()"
      ],
      "execution_count": null,
      "outputs": []
    },
    {
      "cell_type": "code",
      "metadata": {
        "id": "U14MewzpfxHK"
      },
      "source": [
        "DATA_PATH = './drive/MyDrive/코랩/input'\n",
        "os.listdir(DATA_PATH)"
      ],
      "execution_count": null,
      "outputs": []
    },
    {
      "cell_type": "code",
      "metadata": {
        "id": "oK2ubltsg2Mn"
      },
      "source": [
        "TRAIN_IMG_PATH = os.path.join(DATA_PATH, 'train')\n",
        "TEST_IMG_PATH = os.path.join(DATA_PATH, 'test')\n",
        "\n",
        "# CSV 파일 경로\n",
        "df_train = pd.read_csv(os.path.join(DATA_PATH, 'train.csv'))\n",
        "df_test = pd.read_csv(os.path.join(DATA_PATH, 'test.csv'))\n",
        "df_class = pd.read_csv(os.path.join(DATA_PATH, 'class.csv'))"
      ],
      "execution_count": null,
      "outputs": []
    },
    {
      "cell_type": "code",
      "metadata": {
        "id": "3IN7GjCSa09l"
      },
      "source": [
        "df_train.head()"
      ],
      "execution_count": null,
      "outputs": []
    },
    {
      "cell_type": "code",
      "metadata": {
        "id": "3SLLDHoqa1eq"
      },
      "source": [
        "df_test.head()"
      ],
      "execution_count": null,
      "outputs": []
    },
    {
      "cell_type": "code",
      "metadata": {
        "id": "KnSvweYqa2iF"
      },
      "source": [
        "if set(list(df_train.img_file)) == set(os.listdir(TRAIN_IMG_PATH)) :\n",
        "    print(\"Train file 누락 없음!\")\n",
        "else : \n",
        "    print(\"Train file 누락\")\n",
        "\n",
        "if set(list(df_test.img_file)) == set(os.listdir(TEST_IMG_PATH)) :\n",
        "    print(\"Test file 누락 없음!\")\n",
        "else : \n",
        "    print(\"Test file 누락\")"
      ],
      "execution_count": null,
      "outputs": []
    },
    {
      "cell_type": "code",
      "metadata": {
        "id": "N_blkIqZa34R"
      },
      "source": [
        "print(\"Number of Train Data : {}\".format(df_train.shape[0]))\n",
        "print(\"Number of Test Data : {}\".format(df_test.shape[0]))"
      ],
      "execution_count": null,
      "outputs": []
    },
    {
      "cell_type": "code",
      "metadata": {
        "id": "pdd8QhKra5Zn"
      },
      "source": [
        "df_class.head()"
      ],
      "execution_count": null,
      "outputs": []
    },
    {
      "cell_type": "code",
      "metadata": {
        "id": "DFsWgFsOa52f"
      },
      "source": [
        "print(\"타겟 클래스 총 갯수 : {}\".format(df_class.shape[0]))\n",
        "print(\"Train Data의 타겟 종류 갯수 : {}\".format(df_train['class'].nunique()))"
      ],
      "execution_count": null,
      "outputs": []
    },
    {
      "cell_type": "code",
      "metadata": {
        "id": "ht6ayBQPa6Rf"
      },
      "source": [
        "#타켓 클래스의 분포\n",
        "plt.figure(figsize=(12, 6))\n",
        "sns.countplot(df_train[\"class\"], order=df_train[\"class\"].value_counts(ascending=True).index)\n",
        "plt.show()"
      ],
      "execution_count": null,
      "outputs": []
    },
    {
      "cell_type": "code",
      "metadata": {
        "id": "2jMxnykba6UX"
      },
      "source": [
        "cntEachClass = df_train[\"class\"].value_counts(ascending=False)\n",
        "print(\"Class with most count  : {}\".format(cntEachClass.index[0]))\n",
        "print(\"Most Count : {}\".format(cntEachClass.max()))\n",
        "\n",
        "print(\"Class with fewest count  : {}\".format(cntEachClass.index[-1]))\n",
        "print(\"Fewest Count : {}\".format(cntEachClass.min()))\n",
        "\n",
        "print(\"Mean  : {}\".format(cntEachClass.mean()))"
      ],
      "execution_count": null,
      "outputs": []
    },
    {
      "cell_type": "code",
      "metadata": {
        "id": "X6eT6jdwg9ox"
      },
      "source": [
        "df_train[\"class\"] = df_train[\"class\"].astype('str')\n",
        "\n",
        "df_train = df_train[['img_file', 'class']]\n",
        "df_test = df_test[['img_file']]\n",
        "\n",
        "its = np.arange(df_train.shape[0])\n",
        "train_idx, val_idx = train_test_split(its, train_size = 0.8, random_state=42)\n",
        "\n",
        "X_train = df_train.iloc[train_idx, :]\n",
        "X_val = df_train.iloc[val_idx, :]\n",
        "\n",
        "print(X_train.shape)\n",
        "print(X_val.shape)\n",
        "print(df_test.shape)"
      ],
      "execution_count": null,
      "outputs": []
    },
    {
      "cell_type": "code",
      "metadata": {
        "id": "AlBBOcQzg_0U"
      },
      "source": [
        "img_size = (224, 224)\n",
        "nb_train_samples = len(X_train)\n",
        "nb_validation_samples = len(X_val)\n",
        "nb_test_samples = len(df_test)\n",
        "epochs = 20\n",
        "batch_size = 32\n",
        "\n",
        "# Define Generator config\n",
        "train_datagen = ImageDataGenerator(\n",
        "    horizontal_flip = True, \n",
        "    vertical_flip = False,\n",
        "    zoom_range=0.10,\n",
        "    preprocessing_function=preprocess_input)\n",
        "\n",
        "val_datagen = ImageDataGenerator(preprocessing_function=preprocess_input)\n",
        "test_datagen = ImageDataGenerator(preprocessing_function=preprocess_input)\n",
        "\n",
        "# Make Generator\n",
        "train_generator = train_datagen.flow_from_dataframe(\n",
        "    dataframe=X_train, \n",
        "    directory='./drive/MyDrive/코랩/input/train/',\n",
        "    x_col = 'img_file',\n",
        "    y_col = 'class',\n",
        "    target_size = img_size,\n",
        "    color_mode='rgb',\n",
        "    class_mode='categorical',\n",
        "    batch_size=batch_size,\n",
        "    seed=42\n",
        ")\n",
        "\n",
        "validation_generator = val_datagen.flow_from_dataframe(\n",
        "    dataframe=X_val, \n",
        "    directory='./drive/MyDrive/코랩/input/train',\n",
        "    x_col = 'img_file',\n",
        "    y_col = 'class',\n",
        "    target_size = img_size,\n",
        "    color_mode='rgb',\n",
        "    class_mode='categorical',\n",
        "    batch_size=batch_size,\n",
        "    shuffle=False\n",
        ")\n",
        "\n",
        "test_generator = test_datagen.flow_from_dataframe(\n",
        "    dataframe=df_test,\n",
        "    directory='./drive/MyDrive/코랩/input/test',\n",
        "    x_col='img_file',\n",
        "    y_col=None,\n",
        "    target_size= img_size,\n",
        "    color_mode='rgb',\n",
        "    class_mode=None,\n",
        "    batch_size=batch_size,\n",
        "    shuffle=False\n",
        ")"
      ],
      "execution_count": null,
      "outputs": []
    },
    {
      "cell_type": "code",
      "metadata": {
        "id": "AGR0Z7vQhOd2"
      },
      "source": [
        "resNet_model = ResNet50(include_top=False, input_shape = (224,224,3))"
      ],
      "execution_count": null,
      "outputs": []
    },
    {
      "cell_type": "code",
      "metadata": {
        "id": "h0f5wZhshQjl"
      },
      "source": [
        "model = Sequential()\n",
        "model.add(resNet_model)\n",
        "model.add(GlobalAveragePooling2D())\n",
        "model.add(Dense(196, activation='softmax', kernel_initializer='he_normal'))"
      ],
      "execution_count": null,
      "outputs": []
    },
    {
      "cell_type": "code",
      "metadata": {
        "id": "seO0z37EhWmh"
      },
      "source": [
        "from sklearn.metrics import f1_score\n",
        "\n",
        "def micro_f1(y_true, y_pred):\n",
        "    return f1_score(y_true, y_pred, average='micro')\n",
        "\n",
        "model.compile(optimizer='adam', loss='categorical_crossentropy', metrics=['acc'])"
      ],
      "execution_count": null,
      "outputs": []
    },
    {
      "cell_type": "code",
      "metadata": {
        "id": "Jx98viLNhYac"
      },
      "source": [
        "def get_steps(num_samples, batch_size):\n",
        "    if (num_samples % batch_size) > 0 :\n",
        "        return (num_samples // batch_size) + 1\n",
        "    else :\n",
        "        return num_samples // batch_size"
      ],
      "execution_count": null,
      "outputs": []
    },
    {
      "cell_type": "code",
      "metadata": {
        "id": "yYgcjmvzhZgG"
      },
      "source": [
        "#모델 학습\n",
        "from keras.callbacks import ModelCheckpoint, EarlyStopping\n",
        "\n",
        "filepath = \"my_resnet_model_{val_acc:.2f}_{val_loss:.4f}.h5\"\n",
        "\n",
        "es = EarlyStopping(monitor='val_acc', min_delta=0, patience=3, verbose=1, mode='auto')\n",
        "\n",
        "\n",
        "callbackList = [es]\n",
        "\n",
        "history = model.fit_generator(\n",
        "    train_generator,\n",
        "    steps_per_epoch = get_steps(nb_train_samples, batch_size),\n",
        "    epochs=epochs,\n",
        "    validation_data = validation_generator,\n",
        "    validation_steps = get_steps(nb_validation_samples, batch_size),\n",
        "    callbacks = callbackList\n",
        ")\n",
        "gc.collect()"
      ],
      "execution_count": null,
      "outputs": []
    },
    {
      "cell_type": "code",
      "metadata": {
        "id": "mW3FzUXpJ4NE"
      },
      "source": [
        "test_generator.reset()\n",
        "prediction = model.predict_generator(\n",
        "    generator = test_generator,\n",
        "    steps = get_steps(nb_test_samples, batch_size),\n",
        "    verbose=1\n",
        ")"
      ],
      "execution_count": null,
      "outputs": []
    },
    {
      "cell_type": "code",
      "metadata": {
        "id": "rUBdVvSZSyv3"
      },
      "source": [
        "predicted_class_indices=np.argmax(prediction, axis=1)\n",
        "\n",
        "# Generator class dictionary mapping\n",
        "labels = (train_generator.class_indices)\n",
        "labels = dict((v,k) for k,v in labels.items())\n",
        "predictions = [labels[k] for k in predicted_class_indices]\n",
        "\n",
        "submission = pd.read_csv(os.path.join(DATA_PATH, 'sample_submission.csv'))\n",
        "submission[\"class\"] = predictions\n",
        "submission.to_csv(\"submission.csv\", index=False)\n",
        "submission.head()"
      ],
      "execution_count": null,
      "outputs": []
    },
    {
      "cell_type": "code",
      "metadata": {
        "id": "zFqGtepdbFdW"
      },
      "source": [
        "# Plot training & validation accuracy values\n",
        "plt.plot(history.history['acc'])\n",
        "plt.plot(history.history['val_acc'])\n",
        "plt.title('Model accuracy')\n",
        "plt.ylabel('Accuracy')\n",
        "plt.xlabel('Epoch')\n",
        "plt.legend(['Train', 'Test'], loc='upper left')\n",
        "plt.show()"
      ],
      "execution_count": null,
      "outputs": []
    },
    {
      "cell_type": "code",
      "metadata": {
        "id": "VXIfv6nUcQg6"
      },
      "source": [
        ""
      ],
      "execution_count": null,
      "outputs": []
    }
  ]
}